{
  "cells": [
    {
      "cell_type": "code",
      "execution_count": null,
      "metadata": {
        "id": "g2sRH8h_BbGS"
      },
      "outputs": [],
      "source": [
        "from google.colab import drive"
      ]
    },
    {
      "cell_type": "code",
      "execution_count": null,
      "metadata": {
        "id": "krIW1GacZsYv"
      },
      "outputs": [],
      "source": [
        "drive.mount('/content/drive')"
      ]
    },
    {
      "cell_type": "code",
      "execution_count": null,
      "metadata": {
        "id": "PgnfRK3PTEX1"
      },
      "outputs": [],
      "source": [
        "import pandas as pd\n",
        "import pickle\n",
        "import zipfile\n",
        "import os\n",
        "from sklearn.preprocessing import StandardScaler\n",
        "from sklearn.model_selection import train_test_split\n",
        "from sklearn.metrics import mean_squared_error, mean_absolute_error, r2_score\n",
        "from sklearn.ensemble import GradientBoostingRegressor, AdaBoostRegressor, RandomForestRegressor\n",
        "from xgboost import XGBRegressor\n",
        "from matplotlib import pyplot as plt"
      ]
    },
    {
      "cell_type": "markdown",
      "metadata": {
        "id": "GyYrn8l5cf1G"
      },
      "source": [
        "Import the dataSet"
      ]
    },
    {
      "cell_type": "code",
      "execution_count": null,
      "metadata": {
        "id": "X4qwCZHncUwl"
      },
      "outputs": [],
      "source": [
        "data_import = pd.read_csv('/content/drive/MyDrive/DataSet/male_players.csv')\n"
      ]
    },
    {
      "cell_type": "markdown",
      "metadata": {
        "id": "I4lZx9fRdqTh"
      },
      "source": [
        "Data preprocessing"
      ]
    },
    {
      "cell_type": "markdown",
      "metadata": {
        "id": "k6_d4oBdeOgD"
      },
      "source": [
        "This row descibe the dataset"
      ]
    },
    {
      "cell_type": "code",
      "source": [
        "def data_preprocessing(input_data):\n",
        "  #In this row, i will be dropping columns with more than 30% missing values for the numerical features.\n",
        "  data_import = data_import.dropna(thresh=0.3*len(data_import), axis=1, inplace=True)\n",
        "\n",
        "  numerical_features = data_import.select_dtypes(include=['int64', 'float64'])\n",
        "  categorical_features = data_import.select_dtypes(include=['object'])\n",
        "\n",
        "  # Drop columns with more 90% unique values\n",
        "  predominantly = [col for col in categorical_features.columns if categorical_features[col].nunique() >= 0.9 * len(categorical_features)]\n",
        "  categorical_features = categorical_features.drop(predominantly, axis=1, inplace=True )\n",
        "\n",
        "  categorical_features = categorical_features.drop(['dob', 'club_joined_date', 'player_url', 'player_face_url'], axis=1)\n",
        "\n",
        "  encodings_map  = {}\n",
        "\n",
        "  for col in categorical_features.select_dtypes(include=['object']).columns:\n",
        "      encoded_values, unique_categories = pd.factorize(categorical_features[col])\n",
        "      encodings_map[col] = dict(zip(unique_categories, encoded_values))\n",
        "      categorical_features[col] = encoded_values\n",
        "\n",
        "      #I will combine the numerical and categorical features to form one dataframe that will be used for training the model\n",
        "      data_import1 = pd.concat([numerical_features, categorical_features], axis=1)\n",
        "  return data_import1, encodings_map"
      ],
      "metadata": {
        "id": "WtKlrIUhIfu4"
      },
      "execution_count": null,
      "outputs": []
    },
    {
      "cell_type": "code",
      "execution_count": null,
      "metadata": {
        "id": "M5teu-8Dg_uC"
      },
      "outputs": [],
      "source": [
        "X = data_import.drop(['overall'], axis=1)\n",
        "y = data_import['overall']\n",
        "X_imputed = X.fillna(X.mean())\n",
        "y_imputed = y"
      ]
    },
    {
      "cell_type": "markdown",
      "metadata": {
        "id": "wBiE5DywhGYU"
      },
      "source": [
        "Here i will be imputing the missing values in the dataset by filling them with the mean of the column if any dataset is nana or -"
      ]
    },
    {
      "cell_type": "markdown",
      "metadata": {
        "id": "I-zkcQBshhhX"
      },
      "source": [
        "I will be training the data with the random forest regressor with a 100 estimators."
      ]
    },
    {
      "cell_type": "code",
      "execution_count": null,
      "metadata": {
        "colab": {
          "background_save": true,
          "base_uri": "https://localhost:8080/",
          "height": 75
        },
        "id": "Tv2l1yO1gZEE",
        "outputId": "8bc88cbc-196f-4bf9-a947-a7fe3b941c37"
      },
      "outputs": [
        {
          "data": {
            "text/html": [
              "<style>#sk-container-id-1 {color: black;background-color: white;}#sk-container-id-1 pre{padding: 0;}#sk-container-id-1 div.sk-toggleable {background-color: white;}#sk-container-id-1 label.sk-toggleable__label {cursor: pointer;display: block;width: 100%;margin-bottom: 0;padding: 0.3em;box-sizing: border-box;text-align: center;}#sk-container-id-1 label.sk-toggleable__label-arrow:before {content: \"▸\";float: left;margin-right: 0.25em;color: #696969;}#sk-container-id-1 label.sk-toggleable__label-arrow:hover:before {color: black;}#sk-container-id-1 div.sk-estimator:hover label.sk-toggleable__label-arrow:before {color: black;}#sk-container-id-1 div.sk-toggleable__content {max-height: 0;max-width: 0;overflow: hidden;text-align: left;background-color: #f0f8ff;}#sk-container-id-1 div.sk-toggleable__content pre {margin: 0.2em;color: black;border-radius: 0.25em;background-color: #f0f8ff;}#sk-container-id-1 input.sk-toggleable__control:checked~div.sk-toggleable__content {max-height: 200px;max-width: 100%;overflow: auto;}#sk-container-id-1 input.sk-toggleable__control:checked~label.sk-toggleable__label-arrow:before {content: \"▾\";}#sk-container-id-1 div.sk-estimator input.sk-toggleable__control:checked~label.sk-toggleable__label {background-color: #d4ebff;}#sk-container-id-1 div.sk-label input.sk-toggleable__control:checked~label.sk-toggleable__label {background-color: #d4ebff;}#sk-container-id-1 input.sk-hidden--visually {border: 0;clip: rect(1px 1px 1px 1px);clip: rect(1px, 1px, 1px, 1px);height: 1px;margin: -1px;overflow: hidden;padding: 0;position: absolute;width: 1px;}#sk-container-id-1 div.sk-estimator {font-family: monospace;background-color: #f0f8ff;border: 1px dotted black;border-radius: 0.25em;box-sizing: border-box;margin-bottom: 0.5em;}#sk-container-id-1 div.sk-estimator:hover {background-color: #d4ebff;}#sk-container-id-1 div.sk-parallel-item::after {content: \"\";width: 100%;border-bottom: 1px solid gray;flex-grow: 1;}#sk-container-id-1 div.sk-label:hover label.sk-toggleable__label {background-color: #d4ebff;}#sk-container-id-1 div.sk-serial::before {content: \"\";position: absolute;border-left: 1px solid gray;box-sizing: border-box;top: 0;bottom: 0;left: 50%;z-index: 0;}#sk-container-id-1 div.sk-serial {display: flex;flex-direction: column;align-items: center;background-color: white;padding-right: 0.2em;padding-left: 0.2em;position: relative;}#sk-container-id-1 div.sk-item {position: relative;z-index: 1;}#sk-container-id-1 div.sk-parallel {display: flex;align-items: stretch;justify-content: center;background-color: white;position: relative;}#sk-container-id-1 div.sk-item::before, #sk-container-id-1 div.sk-parallel-item::before {content: \"\";position: absolute;border-left: 1px solid gray;box-sizing: border-box;top: 0;bottom: 0;left: 50%;z-index: -1;}#sk-container-id-1 div.sk-parallel-item {display: flex;flex-direction: column;z-index: 1;position: relative;background-color: white;}#sk-container-id-1 div.sk-parallel-item:first-child::after {align-self: flex-end;width: 50%;}#sk-container-id-1 div.sk-parallel-item:last-child::after {align-self: flex-start;width: 50%;}#sk-container-id-1 div.sk-parallel-item:only-child::after {width: 0;}#sk-container-id-1 div.sk-dashed-wrapped {border: 1px dashed gray;margin: 0 0.4em 0.5em 0.4em;box-sizing: border-box;padding-bottom: 0.4em;background-color: white;}#sk-container-id-1 div.sk-label label {font-family: monospace;font-weight: bold;display: inline-block;line-height: 1.2em;}#sk-container-id-1 div.sk-label-container {text-align: center;}#sk-container-id-1 div.sk-container {/* jupyter's `normalize.less` sets `[hidden] { display: none; }` but bootstrap.min.css set `[hidden] { display: none !important; }` so we also need the `!important` here to be able to override the default hidden behavior on the sphinx rendered scikit-learn.org. See: https://github.com/scikit-learn/scikit-learn/issues/21755 */display: inline-block !important;position: relative;}#sk-container-id-1 div.sk-text-repr-fallback {display: none;}</style><div id=\"sk-container-id-1\" class=\"sk-top-container\"><div class=\"sk-text-repr-fallback\"><pre>RandomForestRegressor(random_state=42)</pre><b>In a Jupyter environment, please rerun this cell to show the HTML representation or trust the notebook. <br />On GitHub, the HTML representation is unable to render, please try loading this page with nbviewer.org.</b></div><div class=\"sk-container\" hidden><div class=\"sk-item\"><div class=\"sk-estimator sk-toggleable\"><input class=\"sk-toggleable__control sk-hidden--visually\" id=\"sk-estimator-id-1\" type=\"checkbox\" checked><label for=\"sk-estimator-id-1\" class=\"sk-toggleable__label sk-toggleable__label-arrow\">RandomForestRegressor</label><div class=\"sk-toggleable__content\"><pre>RandomForestRegressor(random_state=42)</pre></div></div></div></div></div>"
            ],
            "text/plain": [
              "RandomForestRegressor(random_state=42)"
            ]
          },
          "execution_count": 29,
          "metadata": {},
          "output_type": "execute_result"
        }
      ],
      "source": [
        "imputedRegressor = RandomForestRegressor(n_estimators=100, random_state=42)\n",
        "\n",
        "imputedRegressor.fit(X_imputed, y_imputed)"
      ]
    },
    {
      "cell_type": "markdown",
      "metadata": {
        "id": "iBWKIxISh3oV"
      },
      "source": [
        "4.Measure the model's performance and fine-tune it as a process of optimization."
      ]
    },
    {
      "cell_type": "markdown",
      "metadata": {
        "id": "ywjsZBX8h_jf"
      },
      "source": [
        "RandomForestRegressor(random_state=42)"
      ]
    },
    {
      "cell_type": "markdown",
      "metadata": {
        "id": "q5dShTvdiHvl"
      },
      "source": [
        "Since,i have started training this model, i wanted you, please rerun this cell in a Jupyter environment to show the trust of goodle colab."
      ]
    },
    {
      "cell_type": "markdown",
      "metadata": {
        "id": "OVU0RlR4ibZM"
      },
      "source": [
        "I wanted to let the model choose for it the most important features in a dataframe format."
      ]
    },
    {
      "cell_type": "code",
      "execution_count": null,
      "metadata": {
        "colab": {
          "background_save": true
        },
        "id": "zmUQ1fx6iOyB"
      },
      "outputs": [],
      "source": [
        "'''imputed_feature_importances = pd.DataFrame(imputedRegressor.feature_importances_, index=X_imputed.columns, columns=['importance']).sort_values('importance', ascending=False)\n",
        "imputed_feature_importances *= 100\n",
        "imputed_feature_importances.head()\n",
        "'''"
      ]
    },
    {
      "cell_type": "markdown",
      "metadata": {
        "id": "Kh2bvhdVjhp8"
      },
      "source": [
        "I will be keeping only the important features for our X as the Independent Variables."
      ]
    },
    {
      "cell_type": "markdown",
      "metadata": {
        "id": "CvUNwQO3jvfI"
      },
      "source": [
        "I will be checking to see how the data is distributed using X.describe()."
      ]
    },
    {
      "cell_type": "code",
      "execution_count": null,
      "metadata": {
        "id": "UU_fPxY2A_ci"
      },
      "outputs": [],
      "source": [
        "'''y = y_imputed\n",
        "\n",
        "X = imputed_feature_importances[imputed_feature_importances['importance'] > 1].index\n",
        "X = X_imputed[X]\n",
        "X.head()'''"
      ]
    },
    {
      "cell_type": "markdown",
      "metadata": {
        "id": "8bC0AcuFkGuF"
      },
      "source": [
        "I will be scaling the data using the StandardScaler, and also, i will use it later"
      ]
    },
    {
      "cell_type": "code",
      "execution_count": null,
      "metadata": {
        "colab": {
          "background_save": true
        },
        "id": "FDtkHpWQkJMf"
      },
      "outputs": [],
      "source": [
        "scaler = StandardScaler()\n",
        "X_scaled = scaler.fit_transform(X)\n",
        "\n",
        "with open('scaler_model.pkl', 'wb') as file:\n",
        "    pickle.dump(scaler, file)"
      ]
    },
    {
      "cell_type": "code",
      "execution_count": null,
      "metadata": {
        "colab": {
          "background_save": true,
          "base_uri": "https://localhost:8080/",
          "height": 300
        },
        "id": "fIbBvl1Nh5fI",
        "outputId": "87b02c7f-3376-4cdb-f1f7-498848a4037d"
      },
      "outputs": [
        {
          "data": {
            "application/vnd.google.colaboratory.intrinsic+json": {
              "summary": "{\n  \"name\": \"X\",\n  \"rows\": 8,\n  \"fields\": [\n    {\n      \"column\": \"value_eur\",\n      \"properties\": {\n        \"dtype\": \"number\",\n        \"std\": 57126.59940408722,\n        \"min\": -0.38974250472721234,\n        \"max\": 161583.0,\n        \"num_unique_values\": 8,\n        \"samples\": [\n          2.814326698269398e-17,\n          -0.2642282998354963,\n          161583.0\n        ],\n        \"semantic_type\": \"\",\n        \"description\": \"\"\n      }\n    },\n    {\n      \"column\": \"categorial Age\",\n      \"properties\": {\n        \"dtype\": \"number\",\n        \"std\": 57128.0431315921,\n        \"min\": -2.361604966374482,\n        \"max\": 161583.0,\n        \"num_unique_values\": 8,\n        \"samples\": [\n          -2.4203209605116823e-16,\n          -0.07979525043312918,\n          161583.0\n        ],\n        \"semantic_type\": \"\",\n        \"description\": \"\"\n      }\n    },\n    {\n      \"column\": \"age\",\n      \"properties\": {\n        \"dtype\": \"number\",\n        \"std\": 57127.968233390355,\n        \"min\": -1.9534914317009342,\n        \"max\": 161583.0,\n        \"num_unique_values\": 8,\n        \"samples\": [\n          8.442980094808194e-17,\n          -0.0263760588003368,\n          161583.0\n        ],\n        \"semantic_type\": \"\",\n        \"description\": \"\"\n      }\n    },\n    {\n      \"column\": \"potential\",\n      \"properties\": {\n        \"dtype\": \"number\",\n        \"std\": 57128.22935255837,\n        \"min\": -4.911888069331959,\n        \"max\": 161583.0,\n        \"num_unique_values\": 8,\n        \"samples\": [\n          -5.51608032860802e-16,\n          -0.11886812850894075,\n          161583.0\n        ],\n        \"semantic_type\": \"\",\n        \"description\": \"\"\n      }\n    },\n    {\n      \"column\": \"long_name\",\n      \"properties\": {\n        \"dtype\": \"number\",\n        \"std\": 57128.13558332703,\n        \"min\": -1.4441086286677538,\n        \"max\": 161583.0,\n        \"num_unique_values\": 8,\n        \"samples\": [\n          -6.754384075846555e-17,\n          -0.11815358891567983,\n          161583.0\n        ],\n        \"semantic_type\": \"\",\n        \"description\": \"\"\n      }\n    },\n    {\n      \"column\": \"movement_reactions\",\n      \"properties\": {\n        \"dtype\": \"number\",\n        \"std\": 57128.20496731656,\n        \"min\": -4.533987584721109,\n        \"max\": 161583.0,\n        \"num_unique_values\": 8,\n        \"samples\": [\n          2.532894028442458e-16,\n          0.04614766584104656,\n          161583.0\n        ],\n        \"semantic_type\": \"\",\n        \"description\": \"\"\n      }\n    }\n  ]\n}",
              "type": "dataframe"
            },
            "text/html": [
              "\n",
              "  <div id=\"df-82792f38-8e5f-4bf3-be82-b8fe2fb6b5b3\" class=\"colab-df-container\">\n",
              "    <div>\n",
              "<style scoped>\n",
              "    .dataframe tbody tr th:only-of-type {\n",
              "        vertical-align: middle;\n",
              "    }\n",
              "\n",
              "    .dataframe tbody tr th {\n",
              "        vertical-align: top;\n",
              "    }\n",
              "\n",
              "    .dataframe thead th {\n",
              "        text-align: right;\n",
              "    }\n",
              "</style>\n",
              "<table border=\"1\" class=\"dataframe\">\n",
              "  <thead>\n",
              "    <tr style=\"text-align: right;\">\n",
              "      <th></th>\n",
              "      <th>value_eur</th>\n",
              "      <th>categorial Age</th>\n",
              "      <th>age</th>\n",
              "      <th>potential</th>\n",
              "      <th>long_name</th>\n",
              "      <th>movement_reactions</th>\n",
              "    </tr>\n",
              "  </thead>\n",
              "  <tbody>\n",
              "    <tr>\n",
              "      <th>count</th>\n",
              "      <td>1.615830e+05</td>\n",
              "      <td>1.615830e+05</td>\n",
              "      <td>1.615830e+05</td>\n",
              "      <td>1.615830e+05</td>\n",
              "      <td>1.615830e+05</td>\n",
              "      <td>1.615830e+05</td>\n",
              "    </tr>\n",
              "    <tr>\n",
              "      <th>mean</th>\n",
              "      <td>2.814327e-17</td>\n",
              "      <td>-2.420321e-16</td>\n",
              "      <td>8.442980e-17</td>\n",
              "      <td>-5.516080e-16</td>\n",
              "      <td>-6.754384e-17</td>\n",
              "      <td>2.532894e-16</td>\n",
              "    </tr>\n",
              "    <tr>\n",
              "      <th>std</th>\n",
              "      <td>1.000003e+00</td>\n",
              "      <td>1.000003e+00</td>\n",
              "      <td>1.000003e+00</td>\n",
              "      <td>1.000003e+00</td>\n",
              "      <td>1.000003e+00</td>\n",
              "      <td>1.000003e+00</td>\n",
              "    </tr>\n",
              "    <tr>\n",
              "      <th>min</th>\n",
              "      <td>-3.897425e-01</td>\n",
              "      <td>-2.361605e+00</td>\n",
              "      <td>-1.953491e+00</td>\n",
              "      <td>-4.911888e+00</td>\n",
              "      <td>-1.444109e+00</td>\n",
              "      <td>-4.533988e+00</td>\n",
              "    </tr>\n",
              "    <tr>\n",
              "      <th>25%</th>\n",
              "      <td>-3.354480e-01</td>\n",
              "      <td>-6.502477e-01</td>\n",
              "      <td>-8.828718e-01</td>\n",
              "      <td>-7.579375e-01</td>\n",
              "      <td>-8.782299e-01</td>\n",
              "      <td>-7.172082e-01</td>\n",
              "    </tr>\n",
              "    <tr>\n",
              "      <th>50%</th>\n",
              "      <td>-2.642283e-01</td>\n",
              "      <td>-7.979525e-02</td>\n",
              "      <td>-2.637606e-02</td>\n",
              "      <td>-1.188681e-01</td>\n",
              "      <td>-1.181536e-01</td>\n",
              "      <td>4.614767e-02</td>\n",
              "    </tr>\n",
              "    <tr>\n",
              "      <th>75%</th>\n",
              "      <td>-7.151624e-02</td>\n",
              "      <td>6.808080e-01</td>\n",
              "      <td>6.159957e-01</td>\n",
              "      <td>6.799685e-01</td>\n",
              "      <td>7.742663e-01</td>\n",
              "      <td>7.004527e-01</td>\n",
              "    </tr>\n",
              "    <tr>\n",
              "      <th>max</th>\n",
              "      <td>3.211978e+01</td>\n",
              "      <td>4.864126e+00</td>\n",
              "      <td>6.183218e+00</td>\n",
              "      <td>3.875315e+00</td>\n",
              "      <td>2.288563e+00</td>\n",
              "      <td>3.753876e+00</td>\n",
              "    </tr>\n",
              "  </tbody>\n",
              "</table>\n",
              "</div>\n",
              "    <div class=\"colab-df-buttons\">\n",
              "\n",
              "  <div class=\"colab-df-container\">\n",
              "    <button class=\"colab-df-convert\" onclick=\"convertToInteractive('df-82792f38-8e5f-4bf3-be82-b8fe2fb6b5b3')\"\n",
              "            title=\"Convert this dataframe to an interactive table.\"\n",
              "            style=\"display:none;\">\n",
              "\n",
              "  <svg xmlns=\"http://www.w3.org/2000/svg\" height=\"24px\" viewBox=\"0 -960 960 960\">\n",
              "    <path d=\"M120-120v-720h720v720H120Zm60-500h600v-160H180v160Zm220 220h160v-160H400v160Zm0 220h160v-160H400v160ZM180-400h160v-160H180v160Zm440 0h160v-160H620v160ZM180-180h160v-160H180v160Zm440 0h160v-160H620v160Z\"/>\n",
              "  </svg>\n",
              "    </button>\n",
              "\n",
              "  <style>\n",
              "    .colab-df-container {\n",
              "      display:flex;\n",
              "      gap: 12px;\n",
              "    }\n",
              "\n",
              "    .colab-df-convert {\n",
              "      background-color: #E8F0FE;\n",
              "      border: none;\n",
              "      border-radius: 50%;\n",
              "      cursor: pointer;\n",
              "      display: none;\n",
              "      fill: #1967D2;\n",
              "      height: 32px;\n",
              "      padding: 0 0 0 0;\n",
              "      width: 32px;\n",
              "    }\n",
              "\n",
              "    .colab-df-convert:hover {\n",
              "      background-color: #E2EBFA;\n",
              "      box-shadow: 0px 1px 2px rgba(60, 64, 67, 0.3), 0px 1px 3px 1px rgba(60, 64, 67, 0.15);\n",
              "      fill: #174EA6;\n",
              "    }\n",
              "\n",
              "    .colab-df-buttons div {\n",
              "      margin-bottom: 4px;\n",
              "    }\n",
              "\n",
              "    [theme=dark] .colab-df-convert {\n",
              "      background-color: #3B4455;\n",
              "      fill: #D2E3FC;\n",
              "    }\n",
              "\n",
              "    [theme=dark] .colab-df-convert:hover {\n",
              "      background-color: #434B5C;\n",
              "      box-shadow: 0px 1px 3px 1px rgba(0, 0, 0, 0.15);\n",
              "      filter: drop-shadow(0px 1px 2px rgba(0, 0, 0, 0.3));\n",
              "      fill: #FFFFFF;\n",
              "    }\n",
              "  </style>\n",
              "\n",
              "    <script>\n",
              "      const buttonEl =\n",
              "        document.querySelector('#df-82792f38-8e5f-4bf3-be82-b8fe2fb6b5b3 button.colab-df-convert');\n",
              "      buttonEl.style.display =\n",
              "        google.colab.kernel.accessAllowed ? 'block' : 'none';\n",
              "\n",
              "      async function convertToInteractive(key) {\n",
              "        const element = document.querySelector('#df-82792f38-8e5f-4bf3-be82-b8fe2fb6b5b3');\n",
              "        const dataTable =\n",
              "          await google.colab.kernel.invokeFunction('convertToInteractive',\n",
              "                                                    [key], {});\n",
              "        if (!dataTable) return;\n",
              "\n",
              "        const docLinkHtml = 'Like what you see? Visit the ' +\n",
              "          '<a target=\"_blank\" href=https://colab.research.google.com/notebooks/data_table.ipynb>data table notebook</a>'\n",
              "          + ' to learn more about interactive tables.';\n",
              "        element.innerHTML = '';\n",
              "        dataTable['output_type'] = 'display_data';\n",
              "        await google.colab.output.renderOutput(dataTable, element);\n",
              "        const docLink = document.createElement('div');\n",
              "        docLink.innerHTML = docLinkHtml;\n",
              "        element.appendChild(docLink);\n",
              "      }\n",
              "    </script>\n",
              "  </div>\n",
              "\n",
              "\n",
              "<div id=\"df-265c0332-dfa2-4338-9306-cae06b6ed82c\">\n",
              "  <button class=\"colab-df-quickchart\" onclick=\"quickchart('df-265c0332-dfa2-4338-9306-cae06b6ed82c')\"\n",
              "            title=\"Suggest charts\"\n",
              "            style=\"display:none;\">\n",
              "\n",
              "<svg xmlns=\"http://www.w3.org/2000/svg\" height=\"24px\"viewBox=\"0 0 24 24\"\n",
              "     width=\"24px\">\n",
              "    <g>\n",
              "        <path d=\"M19 3H5c-1.1 0-2 .9-2 2v14c0 1.1.9 2 2 2h14c1.1 0 2-.9 2-2V5c0-1.1-.9-2-2-2zM9 17H7v-7h2v7zm4 0h-2V7h2v10zm4 0h-2v-4h2v4z\"/>\n",
              "    </g>\n",
              "</svg>\n",
              "  </button>\n",
              "\n",
              "<style>\n",
              "  .colab-df-quickchart {\n",
              "      --bg-color: #E8F0FE;\n",
              "      --fill-color: #1967D2;\n",
              "      --hover-bg-color: #E2EBFA;\n",
              "      --hover-fill-color: #174EA6;\n",
              "      --disabled-fill-color: #AAA;\n",
              "      --disabled-bg-color: #DDD;\n",
              "  }\n",
              "\n",
              "  [theme=dark] .colab-df-quickchart {\n",
              "      --bg-color: #3B4455;\n",
              "      --fill-color: #D2E3FC;\n",
              "      --hover-bg-color: #434B5C;\n",
              "      --hover-fill-color: #FFFFFF;\n",
              "      --disabled-bg-color: #3B4455;\n",
              "      --disabled-fill-color: #666;\n",
              "  }\n",
              "\n",
              "  .colab-df-quickchart {\n",
              "    background-color: var(--bg-color);\n",
              "    border: none;\n",
              "    border-radius: 50%;\n",
              "    cursor: pointer;\n",
              "    display: none;\n",
              "    fill: var(--fill-color);\n",
              "    height: 32px;\n",
              "    padding: 0;\n",
              "    width: 32px;\n",
              "  }\n",
              "\n",
              "  .colab-df-quickchart:hover {\n",
              "    background-color: var(--hover-bg-color);\n",
              "    box-shadow: 0 1px 2px rgba(60, 64, 67, 0.3), 0 1px 3px 1px rgba(60, 64, 67, 0.15);\n",
              "    fill: var(--button-hover-fill-color);\n",
              "  }\n",
              "\n",
              "  .colab-df-quickchart-complete:disabled,\n",
              "  .colab-df-quickchart-complete:disabled:hover {\n",
              "    background-color: var(--disabled-bg-color);\n",
              "    fill: var(--disabled-fill-color);\n",
              "    box-shadow: none;\n",
              "  }\n",
              "\n",
              "  .colab-df-spinner {\n",
              "    border: 2px solid var(--fill-color);\n",
              "    border-color: transparent;\n",
              "    border-bottom-color: var(--fill-color);\n",
              "    animation:\n",
              "      spin 1s steps(1) infinite;\n",
              "  }\n",
              "\n",
              "  @keyframes spin {\n",
              "    0% {\n",
              "      border-color: transparent;\n",
              "      border-bottom-color: var(--fill-color);\n",
              "      border-left-color: var(--fill-color);\n",
              "    }\n",
              "    20% {\n",
              "      border-color: transparent;\n",
              "      border-left-color: var(--fill-color);\n",
              "      border-top-color: var(--fill-color);\n",
              "    }\n",
              "    30% {\n",
              "      border-color: transparent;\n",
              "      border-left-color: var(--fill-color);\n",
              "      border-top-color: var(--fill-color);\n",
              "      border-right-color: var(--fill-color);\n",
              "    }\n",
              "    40% {\n",
              "      border-color: transparent;\n",
              "      border-right-color: var(--fill-color);\n",
              "      border-top-color: var(--fill-color);\n",
              "    }\n",
              "    60% {\n",
              "      border-color: transparent;\n",
              "      border-right-color: var(--fill-color);\n",
              "    }\n",
              "    80% {\n",
              "      border-color: transparent;\n",
              "      border-right-color: var(--fill-color);\n",
              "      border-bottom-color: var(--fill-color);\n",
              "    }\n",
              "    90% {\n",
              "      border-color: transparent;\n",
              "      border-bottom-color: var(--fill-color);\n",
              "    }\n",
              "  }\n",
              "</style>\n",
              "\n",
              "  <script>\n",
              "    async function quickchart(key) {\n",
              "      const quickchartButtonEl =\n",
              "        document.querySelector('#' + key + ' button');\n",
              "      quickchartButtonEl.disabled = true;  // To prevent multiple clicks.\n",
              "      quickchartButtonEl.classList.add('colab-df-spinner');\n",
              "      try {\n",
              "        const charts = await google.colab.kernel.invokeFunction(\n",
              "            'suggestCharts', [key], {});\n",
              "      } catch (error) {\n",
              "        console.error('Error during call to suggestCharts:', error);\n",
              "      }\n",
              "      quickchartButtonEl.classList.remove('colab-df-spinner');\n",
              "      quickchartButtonEl.classList.add('colab-df-quickchart-complete');\n",
              "    }\n",
              "    (() => {\n",
              "      let quickchartButtonEl =\n",
              "        document.querySelector('#df-265c0332-dfa2-4338-9306-cae06b6ed82c button');\n",
              "      quickchartButtonEl.style.display =\n",
              "        google.colab.kernel.accessAllowed ? 'block' : 'none';\n",
              "    })();\n",
              "  </script>\n",
              "</div>\n",
              "\n",
              "    </div>\n",
              "  </div>\n"
            ],
            "text/plain": [
              "          value_eur  categorial Age           age     potential     long_name  \\\n",
              "count  1.615830e+05    1.615830e+05  1.615830e+05  1.615830e+05  1.615830e+05   \n",
              "mean   2.814327e-17   -2.420321e-16  8.442980e-17 -5.516080e-16 -6.754384e-17   \n",
              "std    1.000003e+00    1.000003e+00  1.000003e+00  1.000003e+00  1.000003e+00   \n",
              "min   -3.897425e-01   -2.361605e+00 -1.953491e+00 -4.911888e+00 -1.444109e+00   \n",
              "25%   -3.354480e-01   -6.502477e-01 -8.828718e-01 -7.579375e-01 -8.782299e-01   \n",
              "50%   -2.642283e-01   -7.979525e-02 -2.637606e-02 -1.188681e-01 -1.181536e-01   \n",
              "75%   -7.151624e-02    6.808080e-01  6.159957e-01  6.799685e-01  7.742663e-01   \n",
              "max    3.211978e+01    4.864126e+00  6.183218e+00  3.875315e+00  2.288563e+00   \n",
              "\n",
              "       movement_reactions  \n",
              "count        1.615830e+05  \n",
              "mean         2.532894e-16  \n",
              "std          1.000003e+00  \n",
              "min         -4.533988e+00  \n",
              "25%         -7.172082e-01  \n",
              "50%          4.614767e-02  \n",
              "75%          7.004527e-01  \n",
              "max          3.753876e+00  "
            ]
          },
          "execution_count": 35,
          "metadata": {},
          "output_type": "execute_result"
        }
      ],
      "source": [
        "X = pd.DataFrame(X_scaled, index=X.index, columns=X.columns)\n",
        "X.describe()"
      ]
    },
    {
      "cell_type": "markdown",
      "metadata": {
        "id": "X8-w-bTAjI3O"
      },
      "source": [
        "I will be splitting the data for training and testing using the train_test_split function from sklearn."
      ]
    },
    {
      "cell_type": "code",
      "execution_count": null,
      "metadata": {
        "colab": {
          "background_save": true,
          "base_uri": "https://localhost:8080/"
        },
        "id": "oIJhgYp3kdJH",
        "outputId": "ea0c3ea9-71ff-4103-aed3-e03ffe1a4e95"
      },
      "outputs": [
        {
          "data": {
            "text/plain": [
              "((129266, 6), (129266,), (32317, 6), (32317,))"
            ]
          },
          "execution_count": 36,
          "metadata": {},
          "output_type": "execute_result"
        }
      ],
      "source": [
        "X_train, X_test, y_train, y_test = train_test_split(X, y, test_size=0.2, random_state=42)\n",
        "X_train.shape, y_train.shape, X_test.shape, y_test.shape"
      ]
    },
    {
      "cell_type": "markdown",
      "metadata": {
        "id": "5ItX1PQukpKN"
      },
      "source": [
        "I will be training the models with 4 different regression models and comparing their performance"
      ]
    },
    {
      "cell_type": "code",
      "execution_count": null,
      "metadata": {
        "colab": {
          "background_save": true
        },
        "id": "nG6tFrSQkrcx"
      },
      "outputs": [],
      "source": [
        "most_models = {\n",
        "    'RandomForestRegressor': RandomForestRegressor(n_estimators=5, random_state=42),\n",
        "    'GradientBoostingRegressor': GradientBoostingRegressor(),\n",
        "    'AdaBoostRegressor': AdaBoostRegressor(),\n",
        "    'XGBRegressor': XGBRegressor()\n",
        "}\n",
        "\n",
        "mse = {}\n",
        "mae = {}\n",
        "r2 = {}\n",
        "\n",
        "for name, model in most_models.items():\n",
        "    model.fit(X_train, y_train)\n",
        "    y_pred = model.predict(X_test)\n",
        "    mse[name] = mean_squared_error(y_test, y_pred)\n",
        "    mae[name] = mean_absolute_error(y_test, y_pred)\n",
        "    r2[name] = r2_score(y_test, y_pred)"
      ]
    },
    {
      "cell_type": "markdown",
      "metadata": {
        "id": "kAa0pfU6k6qV"
      },
      "source": [
        "Notes: The hard or softing will not be used here because; Two probabilistic classifiers trained using LogisticRegression and RandomForestClassifier is trained on Sklearn breast cancer dataset. RandomizedSearchCV is used for tuning both the LogisticRegression and RandomForestClassifier model Pipeline is used to create estimators for both the algorithms. Both hard and soft VotingClassifier is used for illustration purpose."
      ]
    },
    {
      "cell_type": "markdown",
      "metadata": {
        "id": "6ge-oHzHlVZH"
      },
      "source": [
        "I will be converting perfomance data into a dataframe and sorting the data using the R2 score metric."
      ]
    },
    {
      "cell_type": "code",
      "execution_count": null,
      "metadata": {
        "colab": {
          "background_save": true
        },
        "id": "0QAV-lHjlYdb",
        "outputId": "45395b8c-9ef2-4980-f479-4e7d9273b33e"
      },
      "outputs": [
        {
          "data": {
            "application/vnd.google.colaboratory.intrinsic+json": {
              "summary": "{\n  \"name\": \"accuracy\",\n  \"rows\": 4,\n  \"fields\": [\n    {\n      \"column\": \"MSE\",\n      \"properties\": {\n        \"dtype\": \"number\",\n        \"std\": 1.7715707290801381,\n        \"min\": 0.31289290466318037,\n        \"max\": 4.0548023201286405,\n        \"num_unique_values\": 4,\n        \"samples\": [\n          0.40775716298534703,\n          4.0548023201286405,\n          0.31289290466318037\n        ],\n        \"semantic_type\": \"\",\n        \"description\": \"\"\n      }\n    },\n    {\n      \"column\": \"MAE\",\n      \"properties\": {\n        \"dtype\": \"number\",\n        \"std\": 0.609530010022766,\n        \"min\": 0.29391342018132915,\n        \"max\": 1.6583608286009848,\n        \"num_unique_values\": 4,\n        \"samples\": [\n          0.4552838253230525,\n          1.6583608286009848,\n          0.29391342018132915\n        ],\n        \"semantic_type\": \"\",\n        \"description\": \"\"\n      }\n    },\n    {\n      \"column\": \"R2\",\n      \"properties\": {\n        \"dtype\": \"number\",\n        \"std\": 0.035743428216623505,\n        \"min\": 0.9181898112883302,\n        \"max\": 0.9936870343962353,\n        \"num_unique_values\": 4,\n        \"samples\": [\n          0.9917730414903906,\n          0.9181898112883302,\n          0.9936870343962353\n        ],\n        \"semantic_type\": \"\",\n        \"description\": \"\"\n      }\n    }\n  ]\n}",
              "type": "dataframe",
              "variable_name": "accuracy"
            },
            "text/html": [
              "\n",
              "  <div id=\"df-4ddc8dba-e80e-4f38-96d2-127d2489f7b5\" class=\"colab-df-container\">\n",
              "    <div>\n",
              "<style scoped>\n",
              "    .dataframe tbody tr th:only-of-type {\n",
              "        vertical-align: middle;\n",
              "    }\n",
              "\n",
              "    .dataframe tbody tr th {\n",
              "        vertical-align: top;\n",
              "    }\n",
              "\n",
              "    .dataframe thead th {\n",
              "        text-align: right;\n",
              "    }\n",
              "</style>\n",
              "<table border=\"1\" class=\"dataframe\">\n",
              "  <thead>\n",
              "    <tr style=\"text-align: right;\">\n",
              "      <th></th>\n",
              "      <th>MSE</th>\n",
              "      <th>MAE</th>\n",
              "      <th>R2</th>\n",
              "    </tr>\n",
              "  </thead>\n",
              "  <tbody>\n",
              "    <tr>\n",
              "      <th>RandomForestRegressor</th>\n",
              "      <td>0.312893</td>\n",
              "      <td>0.293913</td>\n",
              "      <td>0.993687</td>\n",
              "    </tr>\n",
              "    <tr>\n",
              "      <th>XGBRegressor</th>\n",
              "      <td>0.407757</td>\n",
              "      <td>0.455284</td>\n",
              "      <td>0.991773</td>\n",
              "    </tr>\n",
              "    <tr>\n",
              "      <th>GradientBoostingRegressor</th>\n",
              "      <td>0.947408</td>\n",
              "      <td>0.740731</td>\n",
              "      <td>0.980885</td>\n",
              "    </tr>\n",
              "    <tr>\n",
              "      <th>AdaBoostRegressor</th>\n",
              "      <td>4.054802</td>\n",
              "      <td>1.658361</td>\n",
              "      <td>0.918190</td>\n",
              "    </tr>\n",
              "  </tbody>\n",
              "</table>\n",
              "</div>\n",
              "    <div class=\"colab-df-buttons\">\n",
              "\n",
              "  <div class=\"colab-df-container\">\n",
              "    <button class=\"colab-df-convert\" onclick=\"convertToInteractive('df-4ddc8dba-e80e-4f38-96d2-127d2489f7b5')\"\n",
              "            title=\"Convert this dataframe to an interactive table.\"\n",
              "            style=\"display:none;\">\n",
              "\n",
              "  <svg xmlns=\"http://www.w3.org/2000/svg\" height=\"24px\" viewBox=\"0 -960 960 960\">\n",
              "    <path d=\"M120-120v-720h720v720H120Zm60-500h600v-160H180v160Zm220 220h160v-160H400v160Zm0 220h160v-160H400v160ZM180-400h160v-160H180v160Zm440 0h160v-160H620v160ZM180-180h160v-160H180v160Zm440 0h160v-160H620v160Z\"/>\n",
              "  </svg>\n",
              "    </button>\n",
              "\n",
              "  <style>\n",
              "    .colab-df-container {\n",
              "      display:flex;\n",
              "      gap: 12px;\n",
              "    }\n",
              "\n",
              "    .colab-df-convert {\n",
              "      background-color: #E8F0FE;\n",
              "      border: none;\n",
              "      border-radius: 50%;\n",
              "      cursor: pointer;\n",
              "      display: none;\n",
              "      fill: #1967D2;\n",
              "      height: 32px;\n",
              "      padding: 0 0 0 0;\n",
              "      width: 32px;\n",
              "    }\n",
              "\n",
              "    .colab-df-convert:hover {\n",
              "      background-color: #E2EBFA;\n",
              "      box-shadow: 0px 1px 2px rgba(60, 64, 67, 0.3), 0px 1px 3px 1px rgba(60, 64, 67, 0.15);\n",
              "      fill: #174EA6;\n",
              "    }\n",
              "\n",
              "    .colab-df-buttons div {\n",
              "      margin-bottom: 4px;\n",
              "    }\n",
              "\n",
              "    [theme=dark] .colab-df-convert {\n",
              "      background-color: #3B4455;\n",
              "      fill: #D2E3FC;\n",
              "    }\n",
              "\n",
              "    [theme=dark] .colab-df-convert:hover {\n",
              "      background-color: #434B5C;\n",
              "      box-shadow: 0px 1px 3px 1px rgba(0, 0, 0, 0.15);\n",
              "      filter: drop-shadow(0px 1px 2px rgba(0, 0, 0, 0.3));\n",
              "      fill: #FFFFFF;\n",
              "    }\n",
              "  </style>\n",
              "\n",
              "    <script>\n",
              "      const buttonEl =\n",
              "        document.querySelector('#df-4ddc8dba-e80e-4f38-96d2-127d2489f7b5 button.colab-df-convert');\n",
              "      buttonEl.style.display =\n",
              "        google.colab.kernel.accessAllowed ? 'block' : 'none';\n",
              "\n",
              "      async function convertToInteractive(key) {\n",
              "        const element = document.querySelector('#df-4ddc8dba-e80e-4f38-96d2-127d2489f7b5');\n",
              "        const dataTable =\n",
              "          await google.colab.kernel.invokeFunction('convertToInteractive',\n",
              "                                                    [key], {});\n",
              "        if (!dataTable) return;\n",
              "\n",
              "        const docLinkHtml = 'Like what you see? Visit the ' +\n",
              "          '<a target=\"_blank\" href=https://colab.research.google.com/notebooks/data_table.ipynb>data table notebook</a>'\n",
              "          + ' to learn more about interactive tables.';\n",
              "        element.innerHTML = '';\n",
              "        dataTable['output_type'] = 'display_data';\n",
              "        await google.colab.output.renderOutput(dataTable, element);\n",
              "        const docLink = document.createElement('div');\n",
              "        docLink.innerHTML = docLinkHtml;\n",
              "        element.appendChild(docLink);\n",
              "      }\n",
              "    </script>\n",
              "  </div>\n",
              "\n",
              "\n",
              "<div id=\"df-57f5965d-e7fb-4335-8ca1-1697d3d73287\">\n",
              "  <button class=\"colab-df-quickchart\" onclick=\"quickchart('df-57f5965d-e7fb-4335-8ca1-1697d3d73287')\"\n",
              "            title=\"Suggest charts\"\n",
              "            style=\"display:none;\">\n",
              "\n",
              "<svg xmlns=\"http://www.w3.org/2000/svg\" height=\"24px\"viewBox=\"0 0 24 24\"\n",
              "     width=\"24px\">\n",
              "    <g>\n",
              "        <path d=\"M19 3H5c-1.1 0-2 .9-2 2v14c0 1.1.9 2 2 2h14c1.1 0 2-.9 2-2V5c0-1.1-.9-2-2-2zM9 17H7v-7h2v7zm4 0h-2V7h2v10zm4 0h-2v-4h2v4z\"/>\n",
              "    </g>\n",
              "</svg>\n",
              "  </button>\n",
              "\n",
              "<style>\n",
              "  .colab-df-quickchart {\n",
              "      --bg-color: #E8F0FE;\n",
              "      --fill-color: #1967D2;\n",
              "      --hover-bg-color: #E2EBFA;\n",
              "      --hover-fill-color: #174EA6;\n",
              "      --disabled-fill-color: #AAA;\n",
              "      --disabled-bg-color: #DDD;\n",
              "  }\n",
              "\n",
              "  [theme=dark] .colab-df-quickchart {\n",
              "      --bg-color: #3B4455;\n",
              "      --fill-color: #D2E3FC;\n",
              "      --hover-bg-color: #434B5C;\n",
              "      --hover-fill-color: #FFFFFF;\n",
              "      --disabled-bg-color: #3B4455;\n",
              "      --disabled-fill-color: #666;\n",
              "  }\n",
              "\n",
              "  .colab-df-quickchart {\n",
              "    background-color: var(--bg-color);\n",
              "    border: none;\n",
              "    border-radius: 50%;\n",
              "    cursor: pointer;\n",
              "    display: none;\n",
              "    fill: var(--fill-color);\n",
              "    height: 32px;\n",
              "    padding: 0;\n",
              "    width: 32px;\n",
              "  }\n",
              "\n",
              "  .colab-df-quickchart:hover {\n",
              "    background-color: var(--hover-bg-color);\n",
              "    box-shadow: 0 1px 2px rgba(60, 64, 67, 0.3), 0 1px 3px 1px rgba(60, 64, 67, 0.15);\n",
              "    fill: var(--button-hover-fill-color);\n",
              "  }\n",
              "\n",
              "  .colab-df-quickchart-complete:disabled,\n",
              "  .colab-df-quickchart-complete:disabled:hover {\n",
              "    background-color: var(--disabled-bg-color);\n",
              "    fill: var(--disabled-fill-color);\n",
              "    box-shadow: none;\n",
              "  }\n",
              "\n",
              "  .colab-df-spinner {\n",
              "    border: 2px solid var(--fill-color);\n",
              "    border-color: transparent;\n",
              "    border-bottom-color: var(--fill-color);\n",
              "    animation:\n",
              "      spin 1s steps(1) infinite;\n",
              "  }\n",
              "\n",
              "  @keyframes spin {\n",
              "    0% {\n",
              "      border-color: transparent;\n",
              "      border-bottom-color: var(--fill-color);\n",
              "      border-left-color: var(--fill-color);\n",
              "    }\n",
              "    20% {\n",
              "      border-color: transparent;\n",
              "      border-left-color: var(--fill-color);\n",
              "      border-top-color: var(--fill-color);\n",
              "    }\n",
              "    30% {\n",
              "      border-color: transparent;\n",
              "      border-left-color: var(--fill-color);\n",
              "      border-top-color: var(--fill-color);\n",
              "      border-right-color: var(--fill-color);\n",
              "    }\n",
              "    40% {\n",
              "      border-color: transparent;\n",
              "      border-right-color: var(--fill-color);\n",
              "      border-top-color: var(--fill-color);\n",
              "    }\n",
              "    60% {\n",
              "      border-color: transparent;\n",
              "      border-right-color: var(--fill-color);\n",
              "    }\n",
              "    80% {\n",
              "      border-color: transparent;\n",
              "      border-right-color: var(--fill-color);\n",
              "      border-bottom-color: var(--fill-color);\n",
              "    }\n",
              "    90% {\n",
              "      border-color: transparent;\n",
              "      border-bottom-color: var(--fill-color);\n",
              "    }\n",
              "  }\n",
              "</style>\n",
              "\n",
              "  <script>\n",
              "    async function quickchart(key) {\n",
              "      const quickchartButtonEl =\n",
              "        document.querySelector('#' + key + ' button');\n",
              "      quickchartButtonEl.disabled = true;  // To prevent multiple clicks.\n",
              "      quickchartButtonEl.classList.add('colab-df-spinner');\n",
              "      try {\n",
              "        const charts = await google.colab.kernel.invokeFunction(\n",
              "            'suggestCharts', [key], {});\n",
              "      } catch (error) {\n",
              "        console.error('Error during call to suggestCharts:', error);\n",
              "      }\n",
              "      quickchartButtonEl.classList.remove('colab-df-spinner');\n",
              "      quickchartButtonEl.classList.add('colab-df-quickchart-complete');\n",
              "    }\n",
              "    (() => {\n",
              "      let quickchartButtonEl =\n",
              "        document.querySelector('#df-57f5965d-e7fb-4335-8ca1-1697d3d73287 button');\n",
              "      quickchartButtonEl.style.display =\n",
              "        google.colab.kernel.accessAllowed ? 'block' : 'none';\n",
              "    })();\n",
              "  </script>\n",
              "</div>\n",
              "\n",
              "  <div id=\"id_a1072ef0-531f-42ce-b379-6710d7a97377\">\n",
              "    <style>\n",
              "      .colab-df-generate {\n",
              "        background-color: #E8F0FE;\n",
              "        border: none;\n",
              "        border-radius: 50%;\n",
              "        cursor: pointer;\n",
              "        display: none;\n",
              "        fill: #1967D2;\n",
              "        height: 32px;\n",
              "        padding: 0 0 0 0;\n",
              "        width: 32px;\n",
              "      }\n",
              "\n",
              "      .colab-df-generate:hover {\n",
              "        background-color: #E2EBFA;\n",
              "        box-shadow: 0px 1px 2px rgba(60, 64, 67, 0.3), 0px 1px 3px 1px rgba(60, 64, 67, 0.15);\n",
              "        fill: #174EA6;\n",
              "      }\n",
              "\n",
              "      [theme=dark] .colab-df-generate {\n",
              "        background-color: #3B4455;\n",
              "        fill: #D2E3FC;\n",
              "      }\n",
              "\n",
              "      [theme=dark] .colab-df-generate:hover {\n",
              "        background-color: #434B5C;\n",
              "        box-shadow: 0px 1px 3px 1px rgba(0, 0, 0, 0.15);\n",
              "        filter: drop-shadow(0px 1px 2px rgba(0, 0, 0, 0.3));\n",
              "        fill: #FFFFFF;\n",
              "      }\n",
              "    </style>\n",
              "    <button class=\"colab-df-generate\" onclick=\"generateWithVariable('accuracy')\"\n",
              "            title=\"Generate code using this dataframe.\"\n",
              "            style=\"display:none;\">\n",
              "\n",
              "  <svg xmlns=\"http://www.w3.org/2000/svg\" height=\"24px\"viewBox=\"0 0 24 24\"\n",
              "       width=\"24px\">\n",
              "    <path d=\"M7,19H8.4L18.45,9,17,7.55,7,17.6ZM5,21V16.75L18.45,3.32a2,2,0,0,1,2.83,0l1.4,1.43a1.91,1.91,0,0,1,.58,1.4,1.91,1.91,0,0,1-.58,1.4L9.25,21ZM18.45,9,17,7.55Zm-12,3A5.31,5.31,0,0,0,4.9,8.1,5.31,5.31,0,0,0,1,6.5,5.31,5.31,0,0,0,4.9,4.9,5.31,5.31,0,0,0,6.5,1,5.31,5.31,0,0,0,8.1,4.9,5.31,5.31,0,0,0,12,6.5,5.46,5.46,0,0,0,6.5,12Z\"/>\n",
              "  </svg>\n",
              "    </button>\n",
              "    <script>\n",
              "      (() => {\n",
              "      const buttonEl =\n",
              "        document.querySelector('#id_a1072ef0-531f-42ce-b379-6710d7a97377 button.colab-df-generate');\n",
              "      buttonEl.style.display =\n",
              "        google.colab.kernel.accessAllowed ? 'block' : 'none';\n",
              "\n",
              "      buttonEl.onclick = () => {\n",
              "        google.colab.notebook.generateWithVariable('accuracy');\n",
              "      }\n",
              "      })();\n",
              "    </script>\n",
              "  </div>\n",
              "\n",
              "    </div>\n",
              "  </div>\n"
            ],
            "text/plain": [
              "                                MSE       MAE        R2\n",
              "RandomForestRegressor      0.312893  0.293913  0.993687\n",
              "XGBRegressor               0.407757  0.455284  0.991773\n",
              "GradientBoostingRegressor  0.947408  0.740731  0.980885\n",
              "AdaBoostRegressor          4.054802  1.658361  0.918190"
            ]
          },
          "execution_count": 38,
          "metadata": {},
          "output_type": "execute_result"
        }
      ],
      "source": [
        "accuracy = pd.DataFrame([mse, mae, r2], index=['MSE', 'MAE', 'R2']).T\n",
        "accuracy = accuracy.sort_values('R2', ascending=False)\n",
        "accuracy"
      ]
    },
    {
      "cell_type": "markdown",
      "metadata": {
        "id": "HemQ2TXDl8yN"
      },
      "source": [
        "I will plot a graph that will be showing the accuracy data"
      ]
    },
    {
      "cell_type": "code",
      "execution_count": null,
      "metadata": {
        "colab": {
          "background_save": true
        },
        "id": "WxJA_23jl98I",
        "outputId": "d3930b6f-7834-420f-9c53-4ebbfff5033c"
      },
      "outputs": [
        {
          "data": {
            "image/png": "[encoded data removed]",
            "text/plain": [
              "<Figure size 3000x1500 with 1 Axes>"
            ]
          },
          "metadata": {},
          "output_type": "display_data"
        }
      ],
      "source": [
        "plt.figure(figsize=(30, 15))\n",
        "plt.plot(accuracy['MSE'], label='MSE')\n",
        "plt.plot(accuracy['MAE'], label='MAE')\n",
        "plt.plot(accuracy['R2'], label='R2')\n",
        "plt.xticks(rotation=90)\n",
        "plt.legend()\n",
        "plt.show()"
      ]
    },
    {
      "cell_type": "markdown",
      "metadata": {
        "id": "YAaSLnXymHEp"
      },
      "source": [
        "Random forest has the lowest mean absolute error of 0.29 and the highest r2 score of 0.99 so i wil go with the Random Forest Regressor algotithm.."
      ]
    },
    {
      "cell_type": "markdown",
      "metadata": {
        "id": "NCQz5RlKmPmm"
      },
      "source": [
        "This row below, i will focus on the hyperparameters of the model to get the best performance, and then, i will train it on the entire training dataset"
      ]
    },
    {
      "cell_type": "code",
      "execution_count": null,
      "metadata": {
        "id": "1yNYkckY_lBX"
      },
      "outputs": [],
      "source": [
        "from sklearn.model_selection import GridSearchCV\n",
        "\n",
        "param_grid = {\n",
        "    'n_estimators': [100, 200, 300, 400, 500],\n",
        "    'max_depth': [None, 5, 10, 15, 20],\n",
        "    'min_samples_split': [2, 5, 10, 15, 20],\n",
        "    'min_samples_leaf': [1, 2, 5, 10, 15],\n",
        "    'max_features': ['sqrt', 'log2']\n",
        "}\n",
        "\n",
        "grid_search = GridSearchCV(RandomForestRegressor(random_state=42), param_grid, cv=5, n_jobs=-1, verbose=1)\n",
        "\n",
        "# Combine x_train and x_test into one data frame since its all part of the training set, applying the same to y\n",
        "\n",
        "X = pd.concat([X_train, X_test])\n",
        "y = pd.concat([y_train, y_test])\n",
        "\n",
        "grid_search.fit(X, y)\n",
        "\n",
        "grid_search.best_params_"
      ]
    },
    {
      "cell_type": "markdown",
      "metadata": {
        "id": "9tZdUozgmnQq"
      },
      "source": [
        "Below will act as a starting point for training the model using the best parameters and the entire training dataset."
      ]
    },
    {
      "cell_type": "markdown",
      "metadata": {
        "id": "Tw2zPwBPm1Gl"
      },
      "source": [
        "5. Use the data from another season(players_22) which was not used during the training to test how good is the model"
      ]
    },
    {
      "cell_type": "markdown",
      "metadata": {
        "id": "-E-iqEwNm8lJ"
      },
      "source": [
        "In a Jupyter environment, please rerun this cell to show the HTML representation or trust the notebook.\n",
        "\n"
      ]
    },
    {
      "cell_type": "markdown",
      "metadata": {
        "id": "qwMMxz8BnEXA"
      },
      "source": [
        "Import Testing_dataset from a csv file and storing it in a dataframe."
      ]
    },
    {
      "cell_type": "markdown",
      "metadata": {
        "id": "-A93YcGinej2"
      },
      "source": [
        "# importing the data\n"
      ]
    },
    {
      "cell_type": "code",
      "execution_count": null,
      "metadata": {
        "id": "kEvbGY04uJBf"
      },
      "outputs": [],
      "source": [
        "import pandas as pd\n",
        "import pickle\n",
        "import zipfile\n",
        "import os\n",
        "from sklearn.preprocessing import StandardScaler\n",
        "from sklearn.model_selection import train_test_split\n",
        "from sklearn.metrics import mean_squared_error, mean_absolute_error, r2_score\n",
        "from sklearn.ensemble import GradientBoostingRegressor, AdaBoostRegressor, RandomForestRegressor\n",
        "from xgboost import XGBRegressor\n",
        "from matplotlib import pyplot as plt"
      ]
    },
    {
      "cell_type": "code",
      "execution_count": null,
      "metadata": {
        "id": "qC8yNwyrjvT4"
      },
      "outputs": [],
      "source": [
        "from google.colab import drive\n",
        "drive.mount('/content/drive')\n"
      ]
    },
    {
      "cell_type": "code",
      "execution_count": null,
      "metadata": {
        "id": "j9-hj6PoiFKS"
      },
      "outputs": [],
      "source": [
        "import pandas as pd\n",
        "test_data_import = pd.read_csv('/players_22.csv')\n"
      ]
    },
    {
      "cell_type": "code",
      "execution_count": null,
      "metadata": {
        "id": "xh2WMuGJnAqS"
      },
      "outputs": [],
      "source": [
        "test_data_import.head(2)"
      ]
    },
    {
      "cell_type": "markdown",
      "metadata": {
        "id": "ns2W8vQCn1xb"
      },
      "source": [
        "Calculating the current age of the players in the testing dataset. This corresponds to the cat_age feature in the training dataset."
      ]
    },
    {
      "cell_type": "code",
      "execution_count": null,
      "metadata": {
        "id": "GudOx-2kn4O0"
      },
      "outputs": [],
      "source": [
        "test_data_import['categorialAge'] = 2024 - pd.to_datetime(test_data_import.dob).dt.year\n",
        "test_data_import.categorialAge.head(1)"
      ]
    },
    {
      "cell_type": "markdown",
      "metadata": {
        "id": "5TDTyE4pn8yS"
      },
      "source": [
        "In this cell below, i will create a subset of the data that contains only the columns that were used to train the model.\n",
        "\n"
      ]
    },
    {
      "cell_type": "code",
      "execution_count": null,
      "metadata": {
        "id": "e3cFs0UZoEBL"
      },
      "outputs": [],
      "source": [
        "columns_Satisfied = ['value_eur','categorialAge','age','potential','movement_reactions']\n",
        "test_features = test_data_import[columns_Satisfied]\n",
        "test_features.head(2)"
      ]
    },
    {
      "cell_type": "markdown",
      "metadata": {
        "id": "9Ddg5_nQoZaA"
      },
      "source": [
        "I wanted to see the information of selected features"
      ]
    },
    {
      "cell_type": "code",
      "execution_count": null,
      "metadata": {
        "id": "bpx3n8u0ocYd"
      },
      "outputs": [],
      "source": [
        "test_features.info()"
      ]
    },
    {
      "cell_type": "code",
      "execution_count": null,
      "metadata": {
        "id": "WYwvq7Uom5U2"
      },
      "outputs": [],
      "source": [
        "test_overall = test_data_import.overall\n",
        "test_overall.head(2)"
      ]
    },
    {
      "cell_type": "markdown",
      "metadata": {
        "id": "_bdiTQy4o3a4"
      },
      "source": [
        "With a selected features,this cell below be will imputing the missing values in the dataset by filling them with the mean of the column"
      ]
    },
    {
      "cell_type": "code",
      "execution_count": null,
      "metadata": {
        "id": "IocbAvHMo4of"
      },
      "outputs": [],
      "source": [
        "test_features = test_features.fillna(test_features.mean())"
      ]
    },
    {
      "cell_type": "code",
      "execution_count": null,
      "metadata": {
        "id": "roE3gtcFmo3p"
      },
      "outputs": [],
      "source": [
        "test_features.head()"
      ]
    },
    {
      "cell_type": "markdown",
      "metadata": {
        "id": "FK2CCw5NpFyl"
      },
      "source": [
        "I said before that i will later be using the StandardScaler object."
      ]
    },
    {
      "cell_type": "code",
      "execution_count": null,
      "metadata": {
        "id": "pbfhyjOWpMMv"
      },
      "outputs": [],
      "source": [
        "with open('scaler_model.pkl', 'rb') as file:\n",
        "    loaded_scaler = pickle.load(file)\n",
        "test_features = loaded_scaler.transform(test_features)"
      ]
    },
    {
      "cell_type": "markdown",
      "metadata": {
        "id": "1PLK6QqLpUiS"
      },
      "source": [
        "The prediction will the overall rating of the players in the testing dataset."
      ]
    },
    {
      "cell_type": "code",
      "execution_count": null,
      "metadata": {
        "id": "fgC8XPGspXK0"
      },
      "outputs": [],
      "source": [
        "y_pred = model_with_best_params.predict(test_features)"
      ]
    },
    {
      "cell_type": "markdown",
      "metadata": {
        "id": "9cvs3J83pf0s"
      },
      "source": [
        "Still, i will use the metrics of the model for printing values\n",
        "\n"
      ]
    },
    {
      "cell_type": "code",
      "execution_count": null,
      "metadata": {
        "id": "_-Wn3JCxpj-L"
      },
      "outputs": [],
      "source": [
        "mae = mean_absolute_error(test_overall, y_pred)\n",
        "r2 = r2_score(test_overall, y_pred)\n",
        "mse = mean_squared_error(test_overall, y_pred)\n",
        "\n",
        "print(f'MAE: {mae}')\n",
        "print(f'R2: {r2}')\n",
        "print(f'MSE: {mse}')"
      ]
    },
    {
      "cell_type": "markdown",
      "metadata": {
        "id": "iBMGwtGopuS4"
      },
      "source": [
        "At this place, i will be plotting the actual against predicted values to see the correlation\n",
        "\n"
      ]
    },
    {
      "cell_type": "code",
      "execution_count": null,
      "metadata": {
        "id": "hnDzxbdnpwln"
      },
      "outputs": [],
      "source": [
        "plt.figure(figsize=(35, 15))\n",
        "plt.plot(test_overall, label='Actual')\n",
        "plt.plot(y_pred, label='Predicted')\n",
        "plt.xlabel('Player')\n",
        "plt.ylabel('Overall')\n",
        "plt.legend()\n",
        "plt.show()"
      ]
    },
    {
      "cell_type": "markdown",
      "metadata": {
        "id": "_qjaeokWqTTC"
      },
      "source": [
        "Comparing the actual and predicated data\n"
      ]
    },
    {
      "cell_type": "code",
      "execution_count": null,
      "metadata": {
        "id": "pmyySFKCqYGB"
      },
      "outputs": [],
      "source": [
        "comparison = pd.DataFrame({'Actual': test_overall, 'Predicted': y_pred})\n",
        "comparison.tail(5)"
      ]
    },
    {
      "cell_type": "markdown",
      "metadata": {
        "id": "HgYtlQEVqj0v"
      },
      "source": [
        "You have seen the model has an r2 score of 0.978 which is very good, and the mean absolute error is 0.69 which is also very good."
      ]
    },
    {
      "cell_type": "markdown",
      "metadata": {
        "id": "CLJhAGvBqwIG"
      },
      "source": [
        "6. Deploy the model on a simple web page using either (Heroku, Streamlite, or Flask) and upload a video that shows how the model performs on the web page/site\n",
        "Now, i will be saving the model for deployment to the web app using pickle."
      ]
    },
    {
      "cell_type": "code",
      "execution_count": null,
      "metadata": {
        "id": "WtQyIiLQ0kvq"
      },
      "outputs": [],
      "source": [
        "with open('model.pkl', 'wb') as f:\n",
        "    pickle.dump(model_with_best_params, f)"
      ]
    },
    {
      "cell_type": "markdown",
      "metadata": {
        "id": "_ScE4Vlg0waq"
      },
      "source": [
        "The raw model is very large (more than 300mb in size) so we will compress it using gzip to make it smaller (less than 100mb) in size. This will allow us to upload it to github."
      ]
    },
    {
      "cell_type": "code",
      "execution_count": null,
      "metadata": {
        "id": "tHseSUV60zUE"
      },
      "outputs": [],
      "source": [
        "zip_filename = \"model.zip\"\n",
        "model_filename = \"model.pkl\"\n",
        "\n",
        "with zipfile.ZipFile(zip_filename, 'w', zipfile.ZIP_DEFLATED) as archive:\n",
        "    archive.write(model_filename)\n",
        "\n",
        "print(f\"{model_filename} has been zipped to {zip_filename}\")"
      ]
    },
    {
      "cell_type": "markdown",
      "metadata": {
        "id": "wHp0E6YH07it"
      },
      "source": [
        "In this cell below, i will be removing the raw model to save space."
      ]
    },
    {
      "cell_type": "code",
      "execution_count": null,
      "metadata": {
        "id": "363TJ1iE094U"
      },
      "outputs": [],
      "source": [
        "file_path = 'model.pkl'\n",
        "\n",
        "if os.path.exists(file_path):\n",
        "    os.remove(file_path)\n",
        "    print(f\"{file_path} has been removed\")"
      ]
    }
  ],
  "metadata": {
    "colab": {
      "provenance": []
    },
    "kernelspec": {
      "display_name": "Python 3",
      "name": "python3"
    },
    "language_info": {
      "name": "python"
    }
  },
  "nbformat": 4,
  "nbformat_minor": 0
}